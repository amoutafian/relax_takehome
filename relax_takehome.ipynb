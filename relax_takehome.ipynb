{
 "cells": [
  {
   "cell_type": "code",
   "execution_count": 50,
   "id": "010f5ba7-ef9f-4e56-afc2-0211ee336b5c",
   "metadata": {},
   "outputs": [],
   "source": [
    "#import libraries\n",
    "import pandas as pd\n",
    "import matplotlib.pyplot as plt\n",
    "import seaborn as sns\n",
    "import numpy as np\n",
    "\n",
    "from sklearn.model_selection import train_test_split\n",
    "from sklearn.linear_model import LogisticRegression\n",
    "from sklearn.ensemble import RandomForestClassifier\n",
    "\n",
    "#model assessment\n",
    "from sklearn.metrics import accuracy_score, f1_score, precision_score, recall_score\n",
    "from sklearn.metrics import classification_report\n",
    "from sklearn.metrics import confusion_matrix\n"
   ]
  },
  {
   "cell_type": "code",
   "execution_count": 2,
   "id": "d53d5e23-0729-41c8-b942-1fe31b0cad24",
   "metadata": {},
   "outputs": [],
   "source": [
    "#load datasets\n",
    "users = pd.read_csv('takehome_users.csv', encoding='latin1')\n",
    "engagement = pd.read_csv('takehome_user_engagement.csv')"
   ]
  },
  {
   "cell_type": "markdown",
   "id": "d3a4d05b-8095-4db7-8d60-dbf8b345b7bb",
   "metadata": {},
   "source": [
    "Exploratory data analysis"
   ]
  },
  {
   "cell_type": "code",
   "execution_count": 3,
   "id": "1bde9127-1c4b-4452-842b-a6fb0e2578c6",
   "metadata": {},
   "outputs": [],
   "source": [
    "#users.head()"
   ]
  },
  {
   "cell_type": "code",
   "execution_count": 4,
   "id": "c95ab2cf-6064-4136-b76e-e7f910f23dca",
   "metadata": {},
   "outputs": [
    {
     "name": "stdout",
     "output_type": "stream",
     "text": [
      "<class 'pandas.core.frame.DataFrame'>\n",
      "RangeIndex: 12000 entries, 0 to 11999\n",
      "Data columns (total 10 columns):\n",
      " #   Column                      Non-Null Count  Dtype  \n",
      "---  ------                      --------------  -----  \n",
      " 0   object_id                   12000 non-null  int64  \n",
      " 1   creation_time               12000 non-null  object \n",
      " 2   name                        12000 non-null  object \n",
      " 3   email                       12000 non-null  object \n",
      " 4   creation_source             12000 non-null  object \n",
      " 5   last_session_creation_time  8823 non-null   float64\n",
      " 6   opted_in_to_mailing_list    12000 non-null  int64  \n",
      " 7   enabled_for_marketing_drip  12000 non-null  int64  \n",
      " 8   org_id                      12000 non-null  int64  \n",
      " 9   invited_by_user_id          6417 non-null   float64\n",
      "dtypes: float64(2), int64(4), object(4)\n",
      "memory usage: 937.6+ KB\n"
     ]
    }
   ],
   "source": [
    "users.info()"
   ]
  },
  {
   "cell_type": "code",
   "execution_count": 5,
   "id": "3fab8372-c70a-42a5-ab00-5a15b825b61a",
   "metadata": {},
   "outputs": [],
   "source": [
    "#engagement.head()"
   ]
  },
  {
   "cell_type": "code",
   "execution_count": 6,
   "id": "66ad10f7-0ad6-4d3a-8b7c-7efee2cec7bc",
   "metadata": {},
   "outputs": [],
   "source": [
    "#engagement.info()"
   ]
  },
  {
   "cell_type": "markdown",
   "id": "d32bba4e-0ec2-4d0d-94d3-a2e8bead49eb",
   "metadata": {},
   "source": [
    "Goal is to identify which factors predict future user adoption with \"adopted user\" defined as user who has logged into product on three separate days in at least one seven-day period\n"
   ]
  },
  {
   "cell_type": "code",
   "execution_count": 7,
   "id": "da9d110a-f602-4f79-89d1-f9ab0cfc08d8",
   "metadata": {},
   "outputs": [],
   "source": [
    "grouped_engagement = engagement.groupby('user_id').count().sort_values(by = 'visited', ascending = False)"
   ]
  },
  {
   "cell_type": "code",
   "execution_count": 8,
   "id": "dc58f9a9-d361-47a7-9083-c4ecaaf14dd8",
   "metadata": {},
   "outputs": [],
   "source": [
    "#check for errors. Want to show any instances where the count of timestamps is \n",
    "#different from the number of visits. This would indicate duplicates.\n",
    "mask = grouped_engagement['time_stamp'] != grouped_engagement['visited']\n",
    "duplicates = grouped_engagement[mask]"
   ]
  },
  {
   "cell_type": "markdown",
   "id": "324bf2b5-029e-4156-b0ea-698a52a44160",
   "metadata": {},
   "source": [
    "There appear to be no duplicates, with each user's visit mapping to a unique timestamp."
   ]
  },
  {
   "cell_type": "code",
   "execution_count": 9,
   "id": "3fd3224e-73fc-4e8f-8bf6-935883ec9c72",
   "metadata": {},
   "outputs": [
    {
     "name": "stdout",
     "output_type": "stream",
     "text": [
      "object\n"
     ]
    }
   ],
   "source": [
    "#Returning to the engagement dataset, we see that our time stamp column is an object \n",
    "print(engagement['time_stamp'].dtype)"
   ]
  },
  {
   "cell_type": "code",
   "execution_count": 10,
   "id": "eca9c736-f923-4d44-a4ed-c0cb1874b090",
   "metadata": {},
   "outputs": [
    {
     "name": "stdout",
     "output_type": "stream",
     "text": [
      "datetime64[ns]\n"
     ]
    }
   ],
   "source": [
    "#convert to datetime\n",
    "engagement['time_stamp']= pd.to_datetime(engagement['time_stamp'])\n",
    "print(engagement['time_stamp'].dtype)"
   ]
  },
  {
   "cell_type": "code",
   "execution_count": 11,
   "id": "e5fe6757-b92e-4dcf-a841-250c8f1f0ae7",
   "metadata": {},
   "outputs": [
    {
     "name": "stdout",
     "output_type": "stream",
     "text": [
      "first engagement:  2012-05-31 08:20:06 , last engagement:  2014-06-06 14:58:50\n"
     ]
    }
   ],
   "source": [
    "#check total time period covered by engagement df, \n",
    "engagement_first = engagement['time_stamp'].min()\n",
    "engagement_last = engagement['time_stamp'].max()\n",
    "print(\"first engagement: \", engagement_first, \", last engagement: \", engagement_last )"
   ]
  },
  {
   "cell_type": "code",
   "execution_count": 12,
   "id": "c7581e7d-81e3-489f-81d7-49d78f1ba8e6",
   "metadata": {},
   "outputs": [],
   "source": [
    "#look at distributions of user info columns\n",
    "#users.hist(figsize = (20,10));"
   ]
  },
  {
   "cell_type": "markdown",
   "id": "5867ca23-699d-4cd9-b447-f1944fc00313",
   "metadata": {},
   "source": [
    "## plan: use rolling window to find list of users who meet \"adopter\" criteria. Use pairplot to show correlation with each column"
   ]
  },
  {
   "cell_type": "code",
   "execution_count": 13,
   "id": "7f42c018-e298-484c-8944-3cef69bae2e8",
   "metadata": {},
   "outputs": [],
   "source": [
    "#set index\n",
    "engagement.set_index('time_stamp', drop = True, inplace = True)\n",
    "#engagement.head()"
   ]
  },
  {
   "cell_type": "code",
   "execution_count": 14,
   "id": "bf0dfe43-5fac-45e0-b3be-9acb0a0989c6",
   "metadata": {},
   "outputs": [],
   "source": [
    "#sort values\n",
    "engagement.sort_values(by = ['user_id','time_stamp'], inplace = True)\n",
    "#engagement.head(30)"
   ]
  },
  {
   "cell_type": "code",
   "execution_count": 15,
   "id": "e4179ed7-0e3e-48d2-88f7-a5bef1673111",
   "metadata": {},
   "outputs": [],
   "source": [
    "# Check the rolling sum calculation and structure before filtering\n",
    "check_rolling = engagement.groupby('user_id').rolling(window='7D').visited.sum()\n",
    "#print(check_rolling.head(20));"
   ]
  },
  {
   "cell_type": "code",
   "execution_count": 16,
   "id": "22bb121e-cb08-4f70-a22c-514f539bf6ef",
   "metadata": {},
   "outputs": [],
   "source": [
    "# Apply filter for adopted criteria\n",
    "adopted = check_rolling[check_rolling >= 3]"
   ]
  },
  {
   "cell_type": "code",
   "execution_count": 17,
   "id": "e2567e9c-96f4-4b92-b1e8-14837155204c",
   "metadata": {},
   "outputs": [],
   "source": [
    "# Reset index to make 'user_id' and 'time_stamp' regular columns again\n",
    "adopted_users = adopted.reset_index()\n",
    "adopted_users;"
   ]
  },
  {
   "cell_type": "code",
   "execution_count": 18,
   "id": "9c6623d3-7ca0-4d3d-9bb1-03a52f9c09b5",
   "metadata": {},
   "outputs": [],
   "source": [
    "#Group by 'user_id' and get the maximum 'visited' count\n",
    "adopted_users_max_visits = adopted_users.groupby('user_id').visited.max().reset_index()\n",
    "#adopted_users_max_visits"
   ]
  },
  {
   "cell_type": "code",
   "execution_count": 19,
   "id": "75492b70-df46-4a9e-bffa-00d222cb9721",
   "metadata": {},
   "outputs": [],
   "source": [
    "adopted_users_max_visits.sort_values(by='user_id', inplace=True)\n",
    "#print(adopted_users_max_visits['user_id'])"
   ]
  },
  {
   "cell_type": "markdown",
   "id": "bf4499fe-c1bb-4f08-a132-6ff9108539c4",
   "metadata": {},
   "source": [
    "## Now we've identified the user id numbers that fit our adoption criteria. \n",
    "## Next we will merge these results with the users df to identify trends in user details and whether or not they adopt"
   ]
  },
  {
   "cell_type": "code",
   "execution_count": 20,
   "id": "dc48d7b8-2bc6-4809-8461-7ddd987c3643",
   "metadata": {},
   "outputs": [],
   "source": [
    "#Initialize column 'is_adopter' in the users df to 0\n",
    "users['is_adopter'] = 0\n",
    "#print(users['is_adopter'].head());"
   ]
  },
  {
   "cell_type": "code",
   "execution_count": 21,
   "id": "dcc600a8-11f8-40a5-a2dd-cfeed5e5835a",
   "metadata": {},
   "outputs": [],
   "source": [
    "#Create new df from adopters with user id\n",
    "#use [[]] so create df and not series\n",
    "adopters = adopted_users_max_visits[['user_id']]\n",
    "#add new column set to 1\n",
    "adopters['is_adopter_y'] = 1\n",
    "#adopters.head()"
   ]
  },
  {
   "cell_type": "code",
   "execution_count": 22,
   "id": "7e06ce7d-6db1-4d42-9b2c-5afe69284138",
   "metadata": {},
   "outputs": [],
   "source": [
    "#merge users and adopters dfs\n",
    "merged_df = users.merge(adopters, left_on = 'object_id', right_on = 'is_adopter_y', how = 'left')"
   ]
  },
  {
   "cell_type": "code",
   "execution_count": 23,
   "id": "444b7b1b-84de-46a0-9479-d8c0a702a4a0",
   "metadata": {},
   "outputs": [
    {
     "data": {
      "text/html": [
       "<div>\n",
       "<style scoped>\n",
       "    .dataframe tbody tr th:only-of-type {\n",
       "        vertical-align: middle;\n",
       "    }\n",
       "\n",
       "    .dataframe tbody tr th {\n",
       "        vertical-align: top;\n",
       "    }\n",
       "\n",
       "    .dataframe thead th {\n",
       "        text-align: right;\n",
       "    }\n",
       "</style>\n",
       "<table border=\"1\" class=\"dataframe\">\n",
       "  <thead>\n",
       "    <tr style=\"text-align: right;\">\n",
       "      <th></th>\n",
       "      <th>object_id</th>\n",
       "      <th>creation_time</th>\n",
       "      <th>name</th>\n",
       "      <th>email</th>\n",
       "      <th>creation_source</th>\n",
       "      <th>last_session_creation_time</th>\n",
       "      <th>opted_in_to_mailing_list</th>\n",
       "      <th>enabled_for_marketing_drip</th>\n",
       "      <th>org_id</th>\n",
       "      <th>invited_by_user_id</th>\n",
       "      <th>is_adopter</th>\n",
       "    </tr>\n",
       "  </thead>\n",
       "  <tbody>\n",
       "    <tr>\n",
       "      <th>0</th>\n",
       "      <td>1</td>\n",
       "      <td>2014-04-22 03:53:30</td>\n",
       "      <td>Clausen August</td>\n",
       "      <td>AugustCClausen@yahoo.com</td>\n",
       "      <td>GUEST_INVITE</td>\n",
       "      <td>1.398139e+09</td>\n",
       "      <td>1</td>\n",
       "      <td>0</td>\n",
       "      <td>11</td>\n",
       "      <td>10803.0</td>\n",
       "      <td>1</td>\n",
       "    </tr>\n",
       "    <tr>\n",
       "      <th>1</th>\n",
       "      <td>2</td>\n",
       "      <td>2013-11-15 03:45:04</td>\n",
       "      <td>Poole Matthew</td>\n",
       "      <td>MatthewPoole@gustr.com</td>\n",
       "      <td>ORG_INVITE</td>\n",
       "      <td>1.396238e+09</td>\n",
       "      <td>0</td>\n",
       "      <td>0</td>\n",
       "      <td>1</td>\n",
       "      <td>316.0</td>\n",
       "      <td>1</td>\n",
       "    </tr>\n",
       "    <tr>\n",
       "      <th>2</th>\n",
       "      <td>3</td>\n",
       "      <td>2013-03-19 23:14:52</td>\n",
       "      <td>Bottrill Mitchell</td>\n",
       "      <td>MitchellBottrill@gustr.com</td>\n",
       "      <td>ORG_INVITE</td>\n",
       "      <td>1.363735e+09</td>\n",
       "      <td>0</td>\n",
       "      <td>0</td>\n",
       "      <td>94</td>\n",
       "      <td>1525.0</td>\n",
       "      <td>1</td>\n",
       "    </tr>\n",
       "    <tr>\n",
       "      <th>3</th>\n",
       "      <td>4</td>\n",
       "      <td>2013-05-21 08:09:28</td>\n",
       "      <td>Clausen Nicklas</td>\n",
       "      <td>NicklasSClausen@yahoo.com</td>\n",
       "      <td>GUEST_INVITE</td>\n",
       "      <td>1.369210e+09</td>\n",
       "      <td>0</td>\n",
       "      <td>0</td>\n",
       "      <td>1</td>\n",
       "      <td>5151.0</td>\n",
       "      <td>1</td>\n",
       "    </tr>\n",
       "    <tr>\n",
       "      <th>4</th>\n",
       "      <td>5</td>\n",
       "      <td>2013-01-17 10:14:20</td>\n",
       "      <td>Raw Grace</td>\n",
       "      <td>GraceRaw@yahoo.com</td>\n",
       "      <td>GUEST_INVITE</td>\n",
       "      <td>1.358850e+09</td>\n",
       "      <td>0</td>\n",
       "      <td>0</td>\n",
       "      <td>193</td>\n",
       "      <td>5240.0</td>\n",
       "      <td>1</td>\n",
       "    </tr>\n",
       "    <tr>\n",
       "      <th>...</th>\n",
       "      <td>...</td>\n",
       "      <td>...</td>\n",
       "      <td>...</td>\n",
       "      <td>...</td>\n",
       "      <td>...</td>\n",
       "      <td>...</td>\n",
       "      <td>...</td>\n",
       "      <td>...</td>\n",
       "      <td>...</td>\n",
       "      <td>...</td>\n",
       "      <td>...</td>\n",
       "    </tr>\n",
       "    <tr>\n",
       "      <th>11995</th>\n",
       "      <td>11996</td>\n",
       "      <td>2013-09-06 06:14:15</td>\n",
       "      <td>Meier Sophia</td>\n",
       "      <td>SophiaMeier@gustr.com</td>\n",
       "      <td>ORG_INVITE</td>\n",
       "      <td>1.378448e+09</td>\n",
       "      <td>0</td>\n",
       "      <td>0</td>\n",
       "      <td>89</td>\n",
       "      <td>8263.0</td>\n",
       "      <td>0</td>\n",
       "    </tr>\n",
       "    <tr>\n",
       "      <th>11996</th>\n",
       "      <td>11997</td>\n",
       "      <td>2013-01-10 18:28:37</td>\n",
       "      <td>Fisher Amelie</td>\n",
       "      <td>AmelieFisher@gmail.com</td>\n",
       "      <td>SIGNUP_GOOGLE_AUTH</td>\n",
       "      <td>1.358275e+09</td>\n",
       "      <td>0</td>\n",
       "      <td>0</td>\n",
       "      <td>200</td>\n",
       "      <td>NaN</td>\n",
       "      <td>0</td>\n",
       "    </tr>\n",
       "    <tr>\n",
       "      <th>11997</th>\n",
       "      <td>11998</td>\n",
       "      <td>2014-04-27 12:45:16</td>\n",
       "      <td>Haynes Jake</td>\n",
       "      <td>JakeHaynes@cuvox.de</td>\n",
       "      <td>GUEST_INVITE</td>\n",
       "      <td>1.398603e+09</td>\n",
       "      <td>1</td>\n",
       "      <td>1</td>\n",
       "      <td>83</td>\n",
       "      <td>8074.0</td>\n",
       "      <td>0</td>\n",
       "    </tr>\n",
       "    <tr>\n",
       "      <th>11998</th>\n",
       "      <td>11999</td>\n",
       "      <td>2012-05-31 11:55:59</td>\n",
       "      <td>Faber Annett</td>\n",
       "      <td>mhaerzxp@iuxiw.com</td>\n",
       "      <td>PERSONAL_PROJECTS</td>\n",
       "      <td>1.338638e+09</td>\n",
       "      <td>0</td>\n",
       "      <td>0</td>\n",
       "      <td>6</td>\n",
       "      <td>NaN</td>\n",
       "      <td>0</td>\n",
       "    </tr>\n",
       "    <tr>\n",
       "      <th>11999</th>\n",
       "      <td>12000</td>\n",
       "      <td>2014-01-26 08:57:12</td>\n",
       "      <td>Lima Thaís</td>\n",
       "      <td>ThaisMeloLima@hotmail.com</td>\n",
       "      <td>SIGNUP</td>\n",
       "      <td>1.390727e+09</td>\n",
       "      <td>0</td>\n",
       "      <td>1</td>\n",
       "      <td>0</td>\n",
       "      <td>NaN</td>\n",
       "      <td>0</td>\n",
       "    </tr>\n",
       "  </tbody>\n",
       "</table>\n",
       "<p>12000 rows × 11 columns</p>\n",
       "</div>"
      ],
      "text/plain": [
       "       object_id        creation_time               name  \\\n",
       "0              1  2014-04-22 03:53:30     Clausen August   \n",
       "1              2  2013-11-15 03:45:04      Poole Matthew   \n",
       "2              3  2013-03-19 23:14:52  Bottrill Mitchell   \n",
       "3              4  2013-05-21 08:09:28    Clausen Nicklas   \n",
       "4              5  2013-01-17 10:14:20          Raw Grace   \n",
       "...          ...                  ...                ...   \n",
       "11995      11996  2013-09-06 06:14:15       Meier Sophia   \n",
       "11996      11997  2013-01-10 18:28:37      Fisher Amelie   \n",
       "11997      11998  2014-04-27 12:45:16        Haynes Jake   \n",
       "11998      11999  2012-05-31 11:55:59       Faber Annett   \n",
       "11999      12000  2014-01-26 08:57:12         Lima Thaís   \n",
       "\n",
       "                            email     creation_source  \\\n",
       "0        AugustCClausen@yahoo.com        GUEST_INVITE   \n",
       "1          MatthewPoole@gustr.com          ORG_INVITE   \n",
       "2      MitchellBottrill@gustr.com          ORG_INVITE   \n",
       "3       NicklasSClausen@yahoo.com        GUEST_INVITE   \n",
       "4              GraceRaw@yahoo.com        GUEST_INVITE   \n",
       "...                           ...                 ...   \n",
       "11995       SophiaMeier@gustr.com          ORG_INVITE   \n",
       "11996      AmelieFisher@gmail.com  SIGNUP_GOOGLE_AUTH   \n",
       "11997         JakeHaynes@cuvox.de        GUEST_INVITE   \n",
       "11998          mhaerzxp@iuxiw.com   PERSONAL_PROJECTS   \n",
       "11999   ThaisMeloLima@hotmail.com              SIGNUP   \n",
       "\n",
       "       last_session_creation_time  opted_in_to_mailing_list  \\\n",
       "0                    1.398139e+09                         1   \n",
       "1                    1.396238e+09                         0   \n",
       "2                    1.363735e+09                         0   \n",
       "3                    1.369210e+09                         0   \n",
       "4                    1.358850e+09                         0   \n",
       "...                           ...                       ...   \n",
       "11995                1.378448e+09                         0   \n",
       "11996                1.358275e+09                         0   \n",
       "11997                1.398603e+09                         1   \n",
       "11998                1.338638e+09                         0   \n",
       "11999                1.390727e+09                         0   \n",
       "\n",
       "       enabled_for_marketing_drip  org_id  invited_by_user_id  is_adopter  \n",
       "0                               0      11             10803.0           1  \n",
       "1                               0       1               316.0           1  \n",
       "2                               0      94              1525.0           1  \n",
       "3                               0       1              5151.0           1  \n",
       "4                               0     193              5240.0           1  \n",
       "...                           ...     ...                 ...         ...  \n",
       "11995                           0      89              8263.0           0  \n",
       "11996                           0     200                 NaN           0  \n",
       "11997                           1      83              8074.0           0  \n",
       "11998                           0       6                 NaN           0  \n",
       "11999                           1       0                 NaN           0  \n",
       "\n",
       "[12000 rows x 11 columns]"
      ]
     },
     "execution_count": 23,
     "metadata": {},
     "output_type": "execute_result"
    }
   ],
   "source": [
    "#fill NaN values with 0\n",
    "users['is_adopter'] = merged_df['is_adopter_y'].fillna(0).astype(int)\n",
    "\n",
    "users"
   ]
  },
  {
   "cell_type": "code",
   "execution_count": 24,
   "id": "9eed271a-911b-49de-86ba-16c541ebfd90",
   "metadata": {},
   "outputs": [
    {
     "name": "stdout",
     "output_type": "stream",
     "text": [
      "2\n"
     ]
    }
   ],
   "source": [
    "users['is_adopter']\n",
    "print(users['is_adopter'].nunique());"
   ]
  },
  {
   "cell_type": "code",
   "execution_count": 25,
   "id": "082e7c60-7a81-41f4-b982-2b3ebf01bcd8",
   "metadata": {},
   "outputs": [],
   "source": [
    "#convert categorical column to binary using one hot encoding`\n",
    "users_encoded = pd.get_dummies(users, columns = ['creation_source'])\n",
    "\n",
    "for column in users_encoded.columns:\n",
    "    if column.startswith('creation_source'):\n",
    "        users_encoded[column] = users_encoded[column].astype(int)"
   ]
  },
  {
   "cell_type": "code",
   "execution_count": 26,
   "id": "a67f5279-4144-4367-8440-8a0a4dc73a05",
   "metadata": {},
   "outputs": [],
   "source": [
    "#users_encoded['creation_time'].dtype"
   ]
  },
  {
   "cell_type": "code",
   "execution_count": 27,
   "id": "27415f55-6bea-481d-9f32-7a57a1fb7fde",
   "metadata": {},
   "outputs": [
    {
     "data": {
      "text/html": [
       "<div>\n",
       "<style scoped>\n",
       "    .dataframe tbody tr th:only-of-type {\n",
       "        vertical-align: middle;\n",
       "    }\n",
       "\n",
       "    .dataframe tbody tr th {\n",
       "        vertical-align: top;\n",
       "    }\n",
       "\n",
       "    .dataframe thead th {\n",
       "        text-align: right;\n",
       "    }\n",
       "</style>\n",
       "<table border=\"1\" class=\"dataframe\">\n",
       "  <thead>\n",
       "    <tr style=\"text-align: right;\">\n",
       "      <th></th>\n",
       "      <th>object_id</th>\n",
       "      <th>creation_time</th>\n",
       "      <th>name</th>\n",
       "      <th>email</th>\n",
       "      <th>last_session_creation_time</th>\n",
       "      <th>opted_in_to_mailing_list</th>\n",
       "      <th>enabled_for_marketing_drip</th>\n",
       "      <th>org_id</th>\n",
       "      <th>invited_by_user_id</th>\n",
       "      <th>is_adopter</th>\n",
       "      <th>creation_source_GUEST_INVITE</th>\n",
       "      <th>creation_source_ORG_INVITE</th>\n",
       "      <th>creation_source_PERSONAL_PROJECTS</th>\n",
       "      <th>creation_source_SIGNUP</th>\n",
       "      <th>creation_source_SIGNUP_GOOGLE_AUTH</th>\n",
       "      <th>days_from_creation</th>\n",
       "    </tr>\n",
       "  </thead>\n",
       "  <tbody>\n",
       "    <tr>\n",
       "      <th>0</th>\n",
       "      <td>1</td>\n",
       "      <td>2014-04-22 03:53:30</td>\n",
       "      <td>Clausen August</td>\n",
       "      <td>AugustCClausen@yahoo.com</td>\n",
       "      <td>1.398139e+09</td>\n",
       "      <td>1</td>\n",
       "      <td>0</td>\n",
       "      <td>11</td>\n",
       "      <td>10803.0</td>\n",
       "      <td>1</td>\n",
       "      <td>1</td>\n",
       "      <td>0</td>\n",
       "      <td>0</td>\n",
       "      <td>0</td>\n",
       "      <td>0</td>\n",
       "      <td>691</td>\n",
       "    </tr>\n",
       "    <tr>\n",
       "      <th>1</th>\n",
       "      <td>2</td>\n",
       "      <td>2013-11-15 03:45:04</td>\n",
       "      <td>Poole Matthew</td>\n",
       "      <td>MatthewPoole@gustr.com</td>\n",
       "      <td>1.396238e+09</td>\n",
       "      <td>0</td>\n",
       "      <td>0</td>\n",
       "      <td>1</td>\n",
       "      <td>316.0</td>\n",
       "      <td>1</td>\n",
       "      <td>0</td>\n",
       "      <td>1</td>\n",
       "      <td>0</td>\n",
       "      <td>0</td>\n",
       "      <td>0</td>\n",
       "      <td>533</td>\n",
       "    </tr>\n",
       "    <tr>\n",
       "      <th>2</th>\n",
       "      <td>3</td>\n",
       "      <td>2013-03-19 23:14:52</td>\n",
       "      <td>Bottrill Mitchell</td>\n",
       "      <td>MitchellBottrill@gustr.com</td>\n",
       "      <td>1.363735e+09</td>\n",
       "      <td>0</td>\n",
       "      <td>0</td>\n",
       "      <td>94</td>\n",
       "      <td>1525.0</td>\n",
       "      <td>1</td>\n",
       "      <td>0</td>\n",
       "      <td>1</td>\n",
       "      <td>0</td>\n",
       "      <td>0</td>\n",
       "      <td>0</td>\n",
       "      <td>292</td>\n",
       "    </tr>\n",
       "    <tr>\n",
       "      <th>3</th>\n",
       "      <td>4</td>\n",
       "      <td>2013-05-21 08:09:28</td>\n",
       "      <td>Clausen Nicklas</td>\n",
       "      <td>NicklasSClausen@yahoo.com</td>\n",
       "      <td>1.369210e+09</td>\n",
       "      <td>0</td>\n",
       "      <td>0</td>\n",
       "      <td>1</td>\n",
       "      <td>5151.0</td>\n",
       "      <td>1</td>\n",
       "      <td>1</td>\n",
       "      <td>0</td>\n",
       "      <td>0</td>\n",
       "      <td>0</td>\n",
       "      <td>0</td>\n",
       "      <td>355</td>\n",
       "    </tr>\n",
       "    <tr>\n",
       "      <th>4</th>\n",
       "      <td>5</td>\n",
       "      <td>2013-01-17 10:14:20</td>\n",
       "      <td>Raw Grace</td>\n",
       "      <td>GraceRaw@yahoo.com</td>\n",
       "      <td>1.358850e+09</td>\n",
       "      <td>0</td>\n",
       "      <td>0</td>\n",
       "      <td>193</td>\n",
       "      <td>5240.0</td>\n",
       "      <td>1</td>\n",
       "      <td>1</td>\n",
       "      <td>0</td>\n",
       "      <td>0</td>\n",
       "      <td>0</td>\n",
       "      <td>0</td>\n",
       "      <td>231</td>\n",
       "    </tr>\n",
       "  </tbody>\n",
       "</table>\n",
       "</div>"
      ],
      "text/plain": [
       "   object_id       creation_time               name  \\\n",
       "0          1 2014-04-22 03:53:30     Clausen August   \n",
       "1          2 2013-11-15 03:45:04      Poole Matthew   \n",
       "2          3 2013-03-19 23:14:52  Bottrill Mitchell   \n",
       "3          4 2013-05-21 08:09:28    Clausen Nicklas   \n",
       "4          5 2013-01-17 10:14:20          Raw Grace   \n",
       "\n",
       "                        email  last_session_creation_time  \\\n",
       "0    AugustCClausen@yahoo.com                1.398139e+09   \n",
       "1      MatthewPoole@gustr.com                1.396238e+09   \n",
       "2  MitchellBottrill@gustr.com                1.363735e+09   \n",
       "3   NicklasSClausen@yahoo.com                1.369210e+09   \n",
       "4          GraceRaw@yahoo.com                1.358850e+09   \n",
       "\n",
       "   opted_in_to_mailing_list  enabled_for_marketing_drip  org_id  \\\n",
       "0                         1                           0      11   \n",
       "1                         0                           0       1   \n",
       "2                         0                           0      94   \n",
       "3                         0                           0       1   \n",
       "4                         0                           0     193   \n",
       "\n",
       "   invited_by_user_id  is_adopter  creation_source_GUEST_INVITE  \\\n",
       "0             10803.0           1                             1   \n",
       "1               316.0           1                             0   \n",
       "2              1525.0           1                             0   \n",
       "3              5151.0           1                             1   \n",
       "4              5240.0           1                             1   \n",
       "\n",
       "   creation_source_ORG_INVITE  creation_source_PERSONAL_PROJECTS  \\\n",
       "0                           0                                  0   \n",
       "1                           1                                  0   \n",
       "2                           1                                  0   \n",
       "3                           0                                  0   \n",
       "4                           0                                  0   \n",
       "\n",
       "   creation_source_SIGNUP  creation_source_SIGNUP_GOOGLE_AUTH  \\\n",
       "0                       0                                   0   \n",
       "1                       0                                   0   \n",
       "2                       0                                   0   \n",
       "3                       0                                   0   \n",
       "4                       0                                   0   \n",
       "\n",
       "   days_from_creation  \n",
       "0                 691  \n",
       "1                 533  \n",
       "2                 292  \n",
       "3                 355  \n",
       "4                 231  "
      ]
     },
     "execution_count": 27,
     "metadata": {},
     "output_type": "execute_result"
    }
   ],
   "source": [
    "#convert creation time column from time stamp to days from creation\n",
    "users_encoded['creation_time'] = pd.to_datetime(users_encoded['creation_time'])\n",
    "reference_date = users_encoded['creation_time'].min()\n",
    "users_encoded['days_from_creation'] = (users_encoded['creation_time']-reference_date).dt.days\n",
    "users_encoded.head()"
   ]
  },
  {
   "cell_type": "code",
   "execution_count": 28,
   "id": "8f13a468-f6ef-4016-b296-898bd309e518",
   "metadata": {},
   "outputs": [],
   "source": [
    "users['invited_by_user'] = users['invited_by_user_id'].notna().astype(int)\n"
   ]
  },
  {
   "cell_type": "code",
   "execution_count": 35,
   "id": "717d2cf6-82ae-4280-b257-42ae145474f0",
   "metadata": {},
   "outputs": [
    {
     "data": {
      "text/plain": [
       "Index(['opted_in_to_mailing_list', 'enabled_for_marketing_drip', 'is_adopter',\n",
       "       'creation_source_GUEST_INVITE', 'creation_source_ORG_INVITE',\n",
       "       'creation_source_PERSONAL_PROJECTS', 'creation_source_SIGNUP',\n",
       "       'creation_source_SIGNUP_GOOGLE_AUTH', 'days_from_creation'],\n",
       "      dtype='object')"
      ]
     },
     "execution_count": 35,
     "metadata": {},
     "output_type": "execute_result"
    }
   ],
   "source": [
    "numeric_users = users_encoded.drop(['object_id', 'creation_time', 'name', 'email', 'invited_by_user_id', 'org_id', 'invited_by_user_id', 'last_session_creation_time'], axis = 1)\n",
    "numeric_users.columns"
   ]
  },
  {
   "cell_type": "code",
   "execution_count": 30,
   "id": "448fd253-b3b6-4aa8-9af8-d91c4071db65",
   "metadata": {},
   "outputs": [],
   "source": [
    "#pairplot = sns.pairplot(numeric_users, hue = 'is_adopter', palette = 'bright')"
   ]
  },
  {
   "cell_type": "code",
   "execution_count": 36,
   "id": "c855b43a-aa98-43f0-b656-5ef4be644097",
   "metadata": {},
   "outputs": [
    {
     "name": "stdout",
     "output_type": "stream",
     "text": [
      "<class 'pandas.core.frame.DataFrame'>\n",
      "RangeIndex: 12000 entries, 0 to 11999\n",
      "Data columns (total 9 columns):\n",
      " #   Column                              Non-Null Count  Dtype\n",
      "---  ------                              --------------  -----\n",
      " 0   opted_in_to_mailing_list            12000 non-null  int64\n",
      " 1   enabled_for_marketing_drip          12000 non-null  int64\n",
      " 2   is_adopter                          12000 non-null  int64\n",
      " 3   creation_source_GUEST_INVITE        12000 non-null  int64\n",
      " 4   creation_source_ORG_INVITE          12000 non-null  int64\n",
      " 5   creation_source_PERSONAL_PROJECTS   12000 non-null  int64\n",
      " 6   creation_source_SIGNUP              12000 non-null  int64\n",
      " 7   creation_source_SIGNUP_GOOGLE_AUTH  12000 non-null  int64\n",
      " 8   days_from_creation                  12000 non-null  int64\n",
      "dtypes: int64(9)\n",
      "memory usage: 843.9 KB\n"
     ]
    }
   ],
   "source": [
    "numeric_users.info()"
   ]
  },
  {
   "cell_type": "code",
   "execution_count": 38,
   "id": "41675583-c4bd-46ca-899c-bfe222d53d0b",
   "metadata": {},
   "outputs": [
    {
     "name": "stdout",
     "output_type": "stream",
     "text": [
      "              precision    recall  f1-score   support\n",
      "\n",
      "           0       0.86      1.00      0.93      3113\n",
      "           1       0.00      0.00      0.00       487\n",
      "\n",
      "    accuracy                           0.86      3600\n",
      "   macro avg       0.43      0.50      0.46      3600\n",
      "weighted avg       0.75      0.86      0.80      3600\n",
      "\n"
     ]
    },
    {
     "name": "stderr",
     "output_type": "stream",
     "text": [
      "/Users/anooshmoutafian/anaconda3/lib/python3.10/site-packages/sklearn/metrics/_classification.py:1344: UndefinedMetricWarning: Precision and F-score are ill-defined and being set to 0.0 in labels with no predicted samples. Use `zero_division` parameter to control this behavior.\n",
      "  _warn_prf(average, modifier, msg_start, len(result))\n",
      "/Users/anooshmoutafian/anaconda3/lib/python3.10/site-packages/sklearn/metrics/_classification.py:1344: UndefinedMetricWarning: Precision and F-score are ill-defined and being set to 0.0 in labels with no predicted samples. Use `zero_division` parameter to control this behavior.\n",
      "  _warn_prf(average, modifier, msg_start, len(result))\n",
      "/Users/anooshmoutafian/anaconda3/lib/python3.10/site-packages/sklearn/metrics/_classification.py:1344: UndefinedMetricWarning: Precision and F-score are ill-defined and being set to 0.0 in labels with no predicted samples. Use `zero_division` parameter to control this behavior.\n",
      "  _warn_prf(average, modifier, msg_start, len(result))\n"
     ]
    }
   ],
   "source": [
    "#use logistic regression model\n",
    "X = numeric_users.drop('is_adopter', axis = 1)\n",
    "y = users['is_adopter']\n",
    "X_train, X_test, y_train, y_test = train_test_split(X,y, test_size = .3, random_state = 42)\n",
    "model_lr = LogisticRegression()\n",
    "model_lr.fit(X_train, y_train)\n",
    "y_pred = model_lr.predict(X_test)\n",
    "print(classification_report(y_test, y_pred))"
   ]
  },
  {
   "cell_type": "code",
   "execution_count": 43,
   "id": "52235299-e0e0-4266-a0dc-d4bc7a833bc4",
   "metadata": {},
   "outputs": [
    {
     "name": "stdout",
     "output_type": "stream",
     "text": [
      "Random Forest Accuracy =  0.8119444444444445\n",
      "Random Forest f1-score = 0.7884480736841969\n"
     ]
    }
   ],
   "source": [
    "#random forest model\n",
    "\n",
    "clf_rf = RandomForestClassifier(n_estimators = 100, random_state = 42, n_jobs=-1)\n",
    "clf_rf.fit(X_train, y_train)\n",
    "\n",
    "y_predict = clf_rf.predict(X_test)\n",
    "ac = accuracy_score(y_test, y_predict)\n",
    "f1 = f1_score(y_test, y_predict, average='weighted')\n",
    "test_accuracy = accuracy_score(y_test, y_predict)\n",
    "print('Random Forest Accuracy = ', ac)\n",
    "print('Random Forest f1-score =' , f1)"
   ]
  },
  {
   "cell_type": "code",
   "execution_count": 45,
   "id": "0308bda5-638c-4e0c-9ded-6c62f96113d8",
   "metadata": {},
   "outputs": [],
   "source": [
    "#print(classification_report(y_test, y_predict))"
   ]
  },
  {
   "cell_type": "code",
   "execution_count": 48,
   "id": "2e91f609-1f4f-4b80-94c0-054164ee11d5",
   "metadata": {},
   "outputs": [],
   "source": []
  },
  {
   "cell_type": "code",
   "execution_count": 51,
   "id": "b09d266a-086f-432e-97ce-eceaf3f0904b",
   "metadata": {},
   "outputs": [
    {
     "data": {
      "image/png": "[encoded data removed]",
      "text/plain": [
       "<Figure size 700x500 with 1 Axes>"
      ]
     },
     "metadata": {},
     "output_type": "display_data"
    }
   ],
   "source": [
    "feature_importance = clf_rf.feature_importances_\n",
    "# make importances relative to max importance\n",
    "feature_importance = 100.0 * (feature_importance / feature_importance.max())\n",
    "sorted_idx = np.argsort(feature_importance)\n",
    "\n",
    "pos = np.arange(sorted_idx.shape[0]) + .5\n",
    "\n",
    "sorted_idx.size\n",
    "plt.figure(figsize=(7,5))\n",
    "plt.barh(pos, feature_importance[sorted_idx], align='center')\n",
    "plt.yticks(pos, X.columns[sorted_idx])\n",
    "plt.xlabel('Relative Importance')\n",
    "plt.title('Random Forest Model Feature Importance')\n",
    "plt.show();"
   ]
  },
  {
   "cell_type": "markdown",
   "id": "44182a7c-52e5-4c3b-b465-bca73c85ba62",
   "metadata": {},
   "source": [
    "## Conclusion:\n",
    "'days_from_creation' appears to be the most relevant feature in prediction of users who will \"adopt\", with adoption being defined as at least three logins in at least one consecutive seven-day period. "
   ]
  }
 ],
 "metadata": {
  "kernelspec": {
   "display_name": "Python 3 (ipykernel)",
   "language": "python",
   "name": "python3"
  },
  "language_info": {
   "codemirror_mode": {
    "name": "ipython",
    "version": 3
   },
   "file_extension": ".py",
   "mimetype": "text/x-python",
   "name": "python",
   "nbconvert_exporter": "python",
   "pygments_lexer": "ipython3",
   "version": "3.10.13"
  }
 },
 "nbformat": 4,
 "nbformat_minor": 5
}
